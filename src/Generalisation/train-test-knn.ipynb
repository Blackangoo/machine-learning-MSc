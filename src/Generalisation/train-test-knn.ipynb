{
 "cells": [
  {
   "cell_type": "code",
   "execution_count": 47,
   "metadata": {},
   "outputs": [],
   "source": [
    "import numpy as np\n",
    "import scipy\n",
    "\n",
    "# generate data\n",
    "n_training_data = 100\n",
    "n_test_data = 10000\n",
    "\n",
    "class GaussianGenerator:\n",
    "    def __init__(self, n_dim, n_classes, class_prob):\n",
    "        self.mean = np.zeros([n_classes, n_dim])\n",
    "        self.covariance = np.zeros([n_classes, n_dim, n_dim])\n",
    "        for c in range(n_classes):\n",
    "            self.mean[c] = np.random.normal(n_dim)\n",
    "            self.covariance[c] = scipy.stats.wishart.rvs(n_dim, np.identity(n_dim))\n",
    "        self.n_dim = n_dim\n",
    "        self.n_classes = n_classes\n",
    "        self.class_prob = class_prob\n",
    "    def generate(self, n_data):\n",
    "        X = np.zeros([n_data, n_dim])\n",
    "        y = np.zeros(n_data)\n",
    "        for t in range(n_data):\n",
    "            c = np.random.choice(range(self.n_classes), p = self.class_prob)\n",
    "            X[t] = scipy.stats.multivariate_normal.rvs(self.mean[c], self.covariance[c])\n",
    "            y[t] = c\n",
    "        return X, y\n",
    "\n",
    "n_dim = 2\n",
    "n_classes = 2\n",
    "class_prob = [0.8, 0.2]\n",
    "generator = GaussianGenerator(n_dim, n_classes, class_prob)\n",
    "\n",
    "train_X, train_y = generator.generate(n_training_data)\n",
    "test_X, test_y = generator.generate(n_test_data)\n"
   ]
  },
  {
   "cell_type": "code",
   "execution_count": 48,
   "metadata": {},
   "outputs": [],
   "source": [
    "import matplotlib.pyplot as plt\n",
    "import seaborn as sns\n",
    "from sklearn import neighbors\n",
    "from sklearn.metrics import accuracy_score\n"
   ]
  },
  {
   "cell_type": "code",
   "execution_count": 49,
   "metadata": {},
   "outputs": [],
   "source": [
    "test_score = np.zeros(99)\n",
    "train_score = np.zeros(99)\n",
    "for n_neighbors in range(1,100):\n",
    "    # we create an instance of Neighbours Classifier and fit the data.\n",
    "    clf = neighbors.KNeighborsClassifier(n_neighbors)\n",
    "    clf.fit(train_X, train_y)\n",
    "    y = clf.predict(train_X)\n",
    "    train_score[n_neighbors-1] = accuracy_score(y, train_y)\n",
    "    y = clf.predict(test_X)\n",
    "    test_score[n_neighbors-1] = accuracy_score(y, test_y)\n",
    "\n"
   ]
  },
  {
   "cell_type": "code",
   "execution_count": 50,
   "metadata": {},
   "outputs": [
    {
     "data": {
      "text/plain": [
       "<matplotlib.legend.Legend at 0x7fdc673e3c10>"
      ]
     },
     "execution_count": 50,
     "metadata": {},
     "output_type": "execute_result"
    },
    {
     "data": {
      "image/png": "[encoded data removed]",
      "text/plain": [
       "<Figure size 432x288 with 1 Axes>"
      ]
     },
     "metadata": {
      "needs_background": "light"
     },
     "output_type": "display_data"
    }
   ],
   "source": [
    "plt.plot(test_score)\n",
    "plt.plot(train_score)\n",
    "plt.legend([\"Test\", \"Train\"])"
   ]
  },
  {
   "cell_type": "code",
   "execution_count": null,
   "metadata": {},
   "outputs": [],
   "source": []
  }
 ],
 "metadata": {
  "kernelspec": {
   "display_name": "Python 3",
   "language": "python",
   "name": "python3"
  },
  "language_info": {
   "codemirror_mode": {
    "name": "ipython",
    "version": 3
   },
   "file_extension": ".py",
   "mimetype": "text/x-python",
   "name": "python",
   "nbconvert_exporter": "python",
   "pygments_lexer": "ipython3",
   "version": "3.8.10"
  }
 },
 "nbformat": 4,
 "nbformat_minor": 4
}
