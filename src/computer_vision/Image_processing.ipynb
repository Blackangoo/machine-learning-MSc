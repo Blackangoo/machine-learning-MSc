{
 "cells": [
  {
   "cell_type": "markdown",
   "metadata": {
    "collapsed": true
   },
   "source": [
    "# Computer vision "
   ]
  },
  {
   "cell_type": "code",
   "execution_count": 5,
   "metadata": {},
   "outputs": [],
   "source": [
    "import sys"
   ]
  },
  {
   "cell_type": "code",
   "execution_count": 6,
   "metadata": {},
   "outputs": [
    {
     "data": {
      "text/plain": [
       "'/home/blackangoo/miniconda3/envs/MachineLearning/bin/python'"
      ]
     },
     "execution_count": 6,
     "metadata": {},
     "output_type": "execute_result"
    }
   ],
   "source": [
    "sys.executable"
   ]
  },
  {
   "cell_type": "code",
   "execution_count": 7,
   "metadata": {},
   "outputs": [],
   "source": [
    "import torch\n",
    "import matplotlib.pyplot as plt\n",
    "import pandas as pd\n",
    "import numpy as np"
   ]
  },
  {
   "cell_type": "code",
   "execution_count": 8,
   "metadata": {},
   "outputs": [
    {
     "name": "stderr",
     "output_type": "stream",
     "text": [
      "/home/blackangoo/miniconda3/envs/MachineLearning/lib/python3.11/site-packages/sklearn/datasets/_openml.py:968: FutureWarning: The default value of `parser` will change from `'liac-arff'` to `'auto'` in 1.4. You can set `parser='auto'` to silence this warning. Therefore, an `ImportError` will be raised from 1.4 if the dataset is dense and pandas is not installed. Note that the pandas parser may return different data types. See the Notes Section in fetch_openml's API doc for details.\n",
      "  warn(\n"
     ]
    }
   ],
   "source": [
    "from sklearn.datasets import fetch_openml\n",
    "h , w = 28, 28\n",
    "mnist = fetch_openml('mnist_784', version=1, as_frame=False)\n",
    "X, y = mnist['data'], mnist['target']"
   ]
  },
  {
   "cell_type": "code",
   "execution_count": 9,
   "metadata": {},
   "outputs": [
    {
     "data": {
      "text/plain": [
       "(70000, 784)"
      ]
     },
     "execution_count": 9,
     "metadata": {},
     "output_type": "execute_result"
    }
   ],
   "source": [
    "X.shape"
   ]
  },
  {
   "cell_type": "markdown",
   "metadata": {},
   "source": []
  },
  {
   "cell_type": "markdown",
   "metadata": {},
   "source": [
    "# Plot image\n",
    "\n",
    "Get a random image from the dataset and plot it using matplotlib.\n",
    "Remember that after selecting an image you have to transform it into a matrix if (28,28) pixel"
   ]
  },
  {
   "cell_type": "code",
   "execution_count": 10,
   "metadata": {},
   "outputs": [
    {
     "ename": "AttributeError",
     "evalue": "'numpy.ndarray' object has no attribute 'iloc'",
     "output_type": "error",
     "traceback": [
      "\u001b[0;31m---------------------------------------------------------------------------\u001b[0m",
      "\u001b[0;31mAttributeError\u001b[0m                            Traceback (most recent call last)",
      "\u001b[1;32m/home/blackangoo/University/MachineLearning/machine-learning-MSc/src/computer_vision/Image_processing.ipynb Cellule 9\u001b[0m line \u001b[0;36m2\n\u001b[1;32m      <a href='vscode-notebook-cell://wsl%2Bubuntu/home/blackangoo/University/MachineLearning/machine-learning-MSc/src/computer_vision/Image_processing.ipynb#X11sdnNjb2RlLXJlbW90ZQ%3D%3D?line=0'>1</a>\u001b[0m random_image \u001b[39m=\u001b[39m \u001b[39m12123\u001b[39m\n\u001b[0;32m----> <a href='vscode-notebook-cell://wsl%2Bubuntu/home/blackangoo/University/MachineLearning/machine-learning-MSc/src/computer_vision/Image_processing.ipynb#X11sdnNjb2RlLXJlbW90ZQ%3D%3D?line=1'>2</a>\u001b[0m image_data \u001b[39m=\u001b[39m X\u001b[39m.\u001b[39miloc[random_image]\u001b[39m.\u001b[39mvalues \u001b[39m# this is a vector we want matrix\u001b[39;00m\n\u001b[1;32m      <a href='vscode-notebook-cell://wsl%2Bubuntu/home/blackangoo/University/MachineLearning/machine-learning-MSc/src/computer_vision/Image_processing.ipynb#X11sdnNjb2RlLXJlbW90ZQ%3D%3D?line=2'>3</a>\u001b[0m y_example \u001b[39m=\u001b[39m y\u001b[39m.\u001b[39miloc[random_image]\n",
      "\u001b[0;31mAttributeError\u001b[0m: 'numpy.ndarray' object has no attribute 'iloc'"
     ]
    }
   ],
   "source": [
    "random_image = 12123\n",
    "image_data = X.iloc[random_image].values # this is a vector we want matrix\n",
    "y_example = y.iloc[random_image]"
   ]
  },
  {
   "cell_type": "code",
   "execution_count": null,
   "metadata": {},
   "outputs": [],
   "source": [
    "image = image_data.reshape((28,28))"
   ]
  },
  {
   "cell_type": "code",
   "execution_count": null,
   "metadata": {},
   "outputs": [
    {
     "data": {
      "image/png": "[encoded data removed]",
      "text/plain": [
       "<Figure size 640x480 with 1 Axes>"
      ]
     },
     "metadata": {},
     "output_type": "display_data"
    }
   ],
   "source": [
    "plt.figure()\n",
    "plt.imshow(image, cmap = \"Greys\")\n",
    "plt.title(f\"Example Digit, label = {y_example}\")\n",
    "plt.xlabel(\"Width\")\n",
    "plt.ylabel(\"Height\")\n",
    "plt.show()\n",
    "plt.close()"
   ]
  },
  {
   "cell_type": "markdown",
   "metadata": {},
   "source": [
    "# Normalise data \n",
    "\n",
    "Normalize your data in order to scale the values from [0,1]\n",
    "In order to do so think of the maximum and the minimum value of each pixel."
   ]
  },
  {
   "cell_type": "code",
   "execution_count": null,
   "metadata": {},
   "outputs": [],
   "source": [
    "X_norm =  X / 255 # convert image to value [0, 1] \n",
    "y = y.astype(\"int\")"
   ]
  },
  {
   "cell_type": "markdown",
   "metadata": {},
   "source": [
    "# Split into train val test\n",
    "\n",
    "Split the dataset into training validation and test set using sklearn."
   ]
  },
  {
   "cell_type": "code",
   "execution_count": null,
   "metadata": {},
   "outputs": [],
   "source": [
    "from sklearn.model_selection import train_test_split\n",
    "# create train test set\n",
    "X_dev, X_test, y_dev, y_test = "
   ]
  },
  {
   "cell_type": "code",
   "execution_count": null,
   "metadata": {},
   "outputs": [],
   "source": [
    "# create train validation set\n",
    "X_train, X_val, y_train, y_val = train_test_split()"
   ]
  },
  {
   "cell_type": "code",
   "execution_count": null,
   "metadata": {},
   "outputs": [
    {
     "name": "stdout",
     "output_type": "stream",
     "text": [
      "train set size:  (50400, 784)\n",
      "val set size:  (5600, 784)\n",
      "test set size:  (14000, 784)\n"
     ]
    }
   ],
   "source": [
    "print(\"train set size: \", X_train.shape)\n",
    "print(\"val set size: \", X_val.shape)\n",
    "print(\"test set size: \", X_test.shape)"
   ]
  },
  {
   "cell_type": "markdown",
   "metadata": {},
   "source": [
    "# Convert image to pytorch dataset\n",
    "\n",
    "Fill the following function that get a pytorch data loader from a numpy arrays.\n",
    "You can check our previous pytorch lab to write the function."
   ]
  },
  {
   "cell_type": "code",
   "execution_count": null,
   "metadata": {},
   "outputs": [],
   "source": [
    "import torch\n",
    "\n",
    "def get_dataloader(X,y, batch_size, shuffle ):\n",
    "    # fill your code\n",
    "    train_x_tensor = torch.tensor(X, dtype=torch.float)\n",
    "    train_y_tensor = torch.tensor(y, dtype=torch,float)\n",
    "\n",
    "    train_tensor_dataset = torch._utils.data\n",
    "    return dataloader"
   ]
  },
  {
   "cell_type": "markdown",
   "metadata": {},
   "source": [
    "We now get the loader for the different data sets."
   ]
  },
  {
   "cell_type": "code",
   "execution_count": null,
   "metadata": {},
   "outputs": [],
   "source": [
    "train_dataloader = get_dataloader(X_train.values, y_train.values, batch_size = 16, shuffle=True)\n",
    "val_dataloader = get_dataloader(X_val.values, y_val.values, batch_size = y_val.shape[0], shuffle=False)\n",
    "test_dataloader = get_dataloader(X_test.values, y_test.values, batch_size = y_test.shape[0], shuffle=True)"
   ]
  },
  {
   "cell_type": "markdown",
   "metadata": {},
   "source": [
    "# Softmax\n",
    "\n",
    "Implement the softmax function.\n",
    "The function in applied to a array $z$ and return a normalised array with values between $[0,1]$\n",
    "\n",
    "The values of each element is calculated according to the following formula:\n",
    "\n",
    "$$ \\sigma(z_i) = \\frac{e^{z_{i}}}{\\sum_{j=1}^K e^{z_{j}}} \\ \\ \\ for\\ i=1,2,\\dots,K $$\n",
    "\n",
    "The advantage of softmax is that is we sum the result of the function always sum to one.\n",
    "So is used in machine learning problem in order to convert a vector of arbitrary values into a vector of propabilities.\n",
    "\n"
   ]
  },
  {
   "cell_type": "code",
   "execution_count": null,
   "metadata": {},
   "outputs": [],
   "source": [
    "def softmax(x):\n",
    "    \"\"\"Compute softmax values for each sets of scores in x.\"\"\"\n",
    "    # fill your code\n",
    "    softmax_values = np.exp(x) / np.sum(np.exp(x))\n",
    "    return "
   ]
  },
  {
   "cell_type": "code",
   "execution_count": null,
   "metadata": {},
   "outputs": [
    {
     "data": {
      "text/plain": [
       "array([0.33333333, 0.33333333, 0.33333333])"
      ]
     },
     "execution_count": 101,
     "metadata": {},
     "output_type": "execute_result"
    }
   ],
   "source": [
    "array1 = np.array([112, 14, 11])\n",
    "softmax(array1)"
   ]
  },
  {
   "cell_type": "code",
   "execution_count": null,
   "metadata": {},
   "outputs": [
    {
     "data": {
      "text/plain": [
       "array([0.21194156, 0.21194156, 0.57611688])"
      ]
     },
     "execution_count": 102,
     "metadata": {},
     "output_type": "execute_result"
    }
   ],
   "source": [
    "array2 = np.array([0,0,1])\n",
    "softmax(array2)"
   ]
  },
  {
   "cell_type": "code",
   "execution_count": null,
   "metadata": {},
   "outputs": [
    {
     "data": {
      "text/plain": [
       "array([8.92508923e-04, 2.42609079e-03, 1.79265209e-02, 9.78754879e-01])"
      ]
     },
     "execution_count": 103,
     "metadata": {},
     "output_type": "execute_result"
    }
   ],
   "source": [
    "array2 = np.array([1, 2, 4, 8])\n",
    "softmax(array2)"
   ]
  },
  {
   "cell_type": "markdown",
   "metadata": {},
   "source": [
    "# Simple Model\n",
    "\n",
    "Define a simple neural network, as our the example in introduction to pytorch.\n",
    "Use 100 units for the first layer and 50 for the second layer.  \n",
    "The output units must be the same as the number of classes (10).  \n",
    "We also have to use softmax to transform the output in range $[0, 1]$ in order to represent propabilities as explained before."
   ]
  },
  {
   "cell_type": "code",
   "execution_count": null,
   "metadata": {},
   "outputs": [
    {
     "ename": "NameError",
     "evalue": "name 'torch' is not defined",
     "output_type": "error",
     "traceback": [
      "\u001b[0;31m---------------------------------------------------------------------------\u001b[0m",
      "\u001b[0;31mNameError\u001b[0m                                 Traceback (most recent call last)",
      "Cell \u001b[0;32mIn[1], line 1\u001b[0m\n\u001b[0;32m----> 1\u001b[0m \u001b[38;5;28;01mclass\u001b[39;00m \u001b[38;5;21;01mNeuralNetwork\u001b[39;00m(\u001b[43mtorch\u001b[49m\u001b[38;5;241m.\u001b[39mnn\u001b[38;5;241m.\u001b[39mModule):\n\u001b[1;32m      2\u001b[0m     \u001b[38;5;124;03m\"\"\"\u001b[39;00m\n\u001b[1;32m      3\u001b[0m \u001b[38;5;124;03m    Simple two layer neural network for regression\u001b[39;00m\n\u001b[1;32m      4\u001b[0m \u001b[38;5;124;03m    \"\"\"\u001b[39;00m\n\u001b[1;32m      5\u001b[0m     \u001b[38;5;28;01mdef\u001b[39;00m \u001b[38;5;21m__init__\u001b[39m(\u001b[38;5;28mself\u001b[39m, num_input_features):\n",
      "\u001b[0;31mNameError\u001b[0m: name 'torch' is not defined"
     ]
    }
   ],
   "source": [
    "class NeuralNetwork(torch.nn.Module):\n",
    "    \"\"\"\n",
    "    Simple two layer neural network for regression\n",
    "    \"\"\"\n",
    "    def __init__(self, num_input_features):\n",
    "        super().__init__()\n",
    "        \n",
    "        # layer 1\n",
    "\n",
    "        \n",
    "        # layer  2\n",
    "\n",
    "        \n",
    "        # layer output layer\n",
    "\n",
    "\n",
    "    def forward(self, x):\n",
    "\n",
    "        return output"
   ]
  },
  {
   "cell_type": "code",
   "execution_count": null,
   "metadata": {},
   "outputs": [
    {
     "ename": "NameError",
     "evalue": "name 'NeuralNetwork' is not defined",
     "output_type": "error",
     "traceback": [
      "\u001b[0;31m---------------------------------------------------------------------------\u001b[0m",
      "\u001b[0;31mNameError\u001b[0m                                 Traceback (most recent call last)",
      "Cell \u001b[0;32mIn[2], line 1\u001b[0m\n\u001b[0;32m----> 1\u001b[0m simple_ff_model \u001b[38;5;241m=\u001b[39m \u001b[43mNeuralNetwork\u001b[49m(num_input_features \u001b[38;5;241m=\u001b[39m X_train\u001b[38;5;241m.\u001b[39mshape[\u001b[38;5;241m1\u001b[39m])\n",
      "\u001b[0;31mNameError\u001b[0m: name 'NeuralNetwork' is not defined"
     ]
    }
   ],
   "source": [
    "simple_ff_model = NeuralNetwork(num_input_features = X_train.shape[1])"
   ]
  },
  {
   "cell_type": "markdown",
   "metadata": {},
   "source": [
    "# Training"
   ]
  },
  {
   "cell_type": "code",
   "execution_count": null,
   "metadata": {},
   "outputs": [],
   "source": [
    "# -------------------- Training  Step----------------------------\n",
    "def training_step(model, input_data, optimizer, loss_fn):\n",
    "    # reset gradients of the optimizer\n",
    "    optimizer.zero_grad()\n",
    "    \n",
    "    # unfold data\n",
    "    x_batch, y_batch = input_data\n",
    "    \n",
    "    # get predictions\n",
    "    y_pred_propa = model(x_batch)\n",
    "    \n",
    "    # calculate loss\n",
    "    loss = loss_fn(y_pred_propa, y_batch)\n",
    "\n",
    "    # compute gradients \n",
    "    loss.backward()\n",
    "    \n",
    "    # optimise network\n",
    "    optimizer.step()\n",
    "    \n",
    "    # compute metrics for monitoring\n",
    "    with torch.no_grad(): \n",
    "        y_pred = torch.argmax(y_pred_propa,axis=1)\n",
    "        \n",
    "        train_acc = torch.sum(y_pred == y_batch) / y_batch.shape[0]\n",
    "\n",
    "    return loss.data.numpy(), train_acc.data.numpy()"
   ]
  },
  {
   "cell_type": "code",
   "execution_count": null,
   "metadata": {},
   "outputs": [],
   "source": [
    "def evaluation_step(model, input_data, loss_fn):\n",
    "    # when we use torch.no_grad pytorch didnt store information\n",
    "    # that is required to calculate gradients so is fasterr \n",
    "    with torch.no_grad(): \n",
    "        x_batch, y_batch = input_data\n",
    "        y_pred_proba = model(x_batch)\n",
    "        loss = loss_fn(y_pred_proba, y_batch)\n",
    "\n",
    "        # compute metrics\n",
    "        y_pred = torch.argmax(y_pred_proba,axis=1)\n",
    "        acc = torch.sum(y_pred == y_batch) / y_batch.shape[0]\n",
    "    return loss.data.numpy(), acc.data.numpy()"
   ]
  },
  {
   "cell_type": "code",
   "execution_count": null,
   "metadata": {},
   "outputs": [],
   "source": [
    "import time\n",
    "\n",
    "\n",
    "# -------------------- Train  Loop----------------------------\n",
    "def train_loop(train_dataloader, val_dataloader, patient, epochs, model, optimizer, loss_fn):\n",
    "    best_loss = np.inf\n",
    "    consecutive_epoch = 0\n",
    "    best_epoch = 0\n",
    "\n",
    "    train_history = []\n",
    "    val_history = []\n",
    "    for epoch in range(epochs): # iterate over epoch    \n",
    "\n",
    "        # -------------------- Training on each epoch ----------------------------\n",
    "        total_step = len(train_dataloader)\n",
    "        accumulated_loss = 0 # monitor loss during training\n",
    "        accumulated_accuracy = 0 # monitor  accuracy during training\n",
    "        accuracy_list = []\n",
    "        start = time.time()\n",
    "        for step in range(total_step): # iterate over batch\n",
    "            batch_data = next(iter(train_dataloader)) # get a batch\n",
    "            loss, accuracy = training_step(model,batch_data,optimizer,loss_fn) # train model using a single batch\n",
    "            accuracy_list += [accuracy]\n",
    "            accumulated_loss = (step * accumulated_loss + loss)/(step+1)\n",
    "            accumulated_accuracy =  (step * accumulated_accuracy + accuracy)/(step+1)\n",
    "        end = time.time()\n",
    "        total_time = end - start\n",
    "        train_history += [{\"loss\":accumulated_loss, \"accuracy\":accumulated_accuracy, \"epoch\": epoch, \"set\":\"train\"}]\n",
    "\n",
    "        # -------------------- Monitor Error Validation set ----------------------------\n",
    "        val_data = next(iter(val_dataloader))\n",
    "        val_loss, val_accuracy = evaluation_step(model, val_data, loss_fn)\n",
    "        val_history += [{\"loss\":val_loss, \"accuracy\":val_accuracy, \"epoch\": epoch, \"set\":\"val\"}]\n",
    "        if epoch % 1 == 0:\n",
    "            print(f\"Epoch {epoch}/{epochs}:({total_time:.3f} sec)  loss:{accumulated_loss:.3f}, accuracy-:{accumulated_accuracy:.3f}, val_loss:{val_loss:.3f}, val_accuracy->{val_accuracy:.3f}\")\n",
    "\n",
    "        # -------------------- Early Stoping ----------------------------\n",
    "        if val_loss > best_loss:\n",
    "            consecutive_epoch += 1\n",
    "        else:\n",
    "            best_loss = val_loss # we have an improvement\n",
    "            consecutive_epoch = 0 # reset counter\n",
    "            best_epoch = epoch\n",
    "            best_weights = model.state_dict()\n",
    "\n",
    "        if consecutive_epoch > patient:\n",
    "            break\n",
    "    val_history_df = pd.DataFrame(val_history)\n",
    "    train_history_df = pd.DataFrame(train_history)\n",
    "    return model, val_history_df, train_history_df, best_loss, best_epoch, best_weights"
   ]
  },
  {
   "cell_type": "code",
   "execution_count": null,
   "metadata": {},
   "outputs": [],
   "source": [
    "import pandas as pd"
   ]
  },
  {
   "cell_type": "code",
   "execution_count": null,
   "metadata": {},
   "outputs": [
    {
     "name": "stderr",
     "output_type": "stream",
     "text": [
      "/Users/andreasathanasopoulos/Phd/projects/bayesian_fairness/envs/bayesian-fairness/lib/python3.9/site-packages/torch/nn/modules/module.py:1518: UserWarning: Implicit dimension choice for softmax has been deprecated. Change the call to include dim=X as an argument.\n",
      "  return self._call_impl(*args, **kwargs)\n"
     ]
    },
    {
     "name": "stdout",
     "output_type": "stream",
     "text": [
      "Epoch 0/10:(5.312 sec)  loss:1.673, accuracy-:0.796, val_loss:1.621, val_accuracy->0.841\n",
      "Epoch 1/10:(5.187 sec)  loss:1.559, accuracy-:0.904, val_loss:1.529, val_accuracy->0.933\n",
      "Epoch 2/10:(5.171 sec)  loss:1.506, accuracy-:0.957, val_loss:1.518, val_accuracy->0.946\n",
      "Epoch 3/10:(5.188 sec)  loss:1.497, accuracy-:0.965, val_loss:1.509, val_accuracy->0.952\n",
      "Epoch 4/10:(5.107 sec)  loss:1.493, accuracy-:0.969, val_loss:1.504, val_accuracy->0.959\n",
      "Epoch 5/10:(5.202 sec)  loss:1.488, accuracy-:0.974, val_loss:1.499, val_accuracy->0.962\n",
      "Epoch 6/10:(5.265 sec)  loss:1.486, accuracy-:0.975, val_loss:1.501, val_accuracy->0.961\n",
      "Epoch 7/10:(5.266 sec)  loss:1.485, accuracy-:0.976, val_loss:1.500, val_accuracy->0.961\n",
      "Epoch 8/10:(5.207 sec)  loss:1.484, accuracy-:0.977, val_loss:1.498, val_accuracy->0.964\n",
      "Epoch 9/10:(5.097 sec)  loss:1.482, accuracy-:0.979, val_loss:1.502, val_accuracy->0.960\n"
     ]
    }
   ],
   "source": [
    "lr = 0.001\n",
    "\n",
    "optimizer = torch.optim.Adam(simple_ff_model.parameters(), lr=lr)\n",
    "loss_fn = torch.nn.CrossEntropyLoss() # cross entropy\n",
    "\n",
    "out = train_loop(train_dataloader = train_dataloader,\n",
    "                 val_dataloader = val_dataloader,\n",
    "                 patient = 3, \n",
    "                 epochs = 10,\n",
    "                 model = simple_ff_model,\n",
    "                 optimizer= optimizer,\n",
    "                 loss_fn= loss_fn)\n",
    "\n",
    "model, val_history_es_5, train_history_es_5, best_loss, best_epoch, best_weights = out"
   ]
  },
  {
   "cell_type": "code",
   "execution_count": null,
   "metadata": {},
   "outputs": [
    {
     "name": "stderr",
     "output_type": "stream",
     "text": [
      "/Users/andreasathanasopoulos/Phd/projects/bayesian_fairness/envs/bayesian-fairness/lib/python3.9/site-packages/torch/nn/modules/module.py:1518: UserWarning: Implicit dimension choice for softmax has been deprecated. Change the call to include dim=X as an argument.\n",
      "  return self._call_impl(*args, **kwargs)\n"
     ]
    }
   ],
   "source": [
    "test_data = next(iter(test_dataloader))\n",
    "loss, acc = evaluation_step(simple_ff_model, test_data, loss_fn)"
   ]
  },
  {
   "cell_type": "code",
   "execution_count": null,
   "metadata": {},
   "outputs": [
    {
     "data": {
      "text/plain": [
       "(array(1.5008513, dtype=float32), array(0.96021426, dtype=float32))"
      ]
     },
     "execution_count": 22,
     "metadata": {},
     "output_type": "execute_result"
    }
   ],
   "source": [
    "loss, acc"
   ]
  },
  {
   "cell_type": "markdown",
   "metadata": {},
   "source": [
    "# cnn model\n",
    "\n",
    "Define a cnn architecture, with two cnn layers using 16 and 32 kernels respectively.\n",
    "Each kernel on both layers in has a size 5x5.\n",
    "After each layer we apply Relu activation function and max-pooling with kernel size 2 and stride 2.\n",
    "\n",
    "At the end you add a simple linear layer on the flatten representation of the final cnn architecture.\n",
    "\n",
    "Check the supplementary slide to calculate the correct input shape for you layers, otherwise you will get an error. (final slides)\n",
    "\n",
    "Fill the code bellow."
   ]
  },
  {
   "cell_type": "code",
   "execution_count": null,
   "metadata": {},
   "outputs": [],
   "source": [
    "class CnnNeuralNetwork(torch.nn.Module):\n",
    "    \"\"\"\n",
    "    Simple two layer neural network for regression\n",
    "    \"\"\"\n",
    "    def __init__(self, num_of_channels):\n",
    "        super().__init__()\n",
    "        \n",
    "        # layer 1\n",
    "        self.cnn_layer_1 = torch.nn.Conv2d(in_channels=,    # input channels           \n",
    "                                           out_channels=,   # number of kernels\n",
    "                                           kernel_size=  # kenrel size \n",
    "                                          )\n",
    "        self.activation_1 = # relu\n",
    "        self.polling_1 = torch.nn.MaxPool2d(kernel_size=) # maxpolling\n",
    "        \n",
    "        # layer  2\n",
    "        self.cnn_layer_2 = torch.nn.Conv2d(\n",
    "                                          in_channels=,  # input channels           \n",
    "                                          out_channels=, # number of kernels        \n",
    "                                          kernel_size= # kenrel size \n",
    "                                          )\n",
    "        self.activation_2 =  # relu\n",
    "        self.polling_2 = torch.nn.MaxPool2d() # maxpolling\n",
    "        \n",
    "        # layer output layer\n",
    "        self.out_layer = torch.nn.Linear(in_features=, # inputs that depends on the output of the cnn\n",
    "                                         out_features=)\n",
    "        self.out_activation= torch.nn.Softmax()\n",
    "\n",
    "    def forward(self, x):\n",
    "        # construct the forward pass\n",
    "        x_1 = self.polling_1(self.activation_1( self.cnn_layer_1( x ) ))\n",
    "        x_2 = self.polling_2(self.activation_2( self.cnn_layer_2( x_1 ) ))\n",
    "        \n",
    "        flaten = torch.flatten(x_2,start_dim=1)\n",
    "        \n",
    "        output = self.out_activation(self.out_layer(flaten))\n",
    "        return output "
   ]
  },
  {
   "cell_type": "code",
   "execution_count": null,
   "metadata": {},
   "outputs": [],
   "source": [
    "cnn_model = CnnNeuralNetwork(num_of_channels = 1)"
   ]
  },
  {
   "cell_type": "code",
   "execution_count": null,
   "metadata": {},
   "outputs": [
    {
     "ename": "NameError",
     "evalue": "name 'cnn_model' is not defined",
     "output_type": "error",
     "traceback": [
      "\u001b[0;31m---------------------------------------------------------------------------\u001b[0m",
      "\u001b[0;31mNameError\u001b[0m                                 Traceback (most recent call last)",
      "Cell \u001b[0;32mIn[4], line 1\u001b[0m\n\u001b[0;32m----> 1\u001b[0m \u001b[43mcnn_model\u001b[49m\n",
      "\u001b[0;31mNameError\u001b[0m: name 'cnn_model' is not defined"
     ]
    }
   ],
   "source": [
    "cnn_model"
   ]
  },
  {
   "cell_type": "markdown",
   "metadata": {},
   "source": [
    "# Create data loader for the cnn model\n",
    "\n",
    "The cnn model takes as input a batch of images of (28,28) shape.\n",
    "In pytorch use the first dimension of the input as the channel information, so it receives input batches of shape: (batch_size, Channels, H, W)\n",
    "Call the get_dataloader with the right arguments in order to produce the input in the correct format"
   ]
  },
  {
   "cell_type": "code",
   "execution_count": null,
   "metadata": {},
   "outputs": [],
   "source": [
    "train_dataloader = get_dataloader(# add corect argument,\n",
    "                                  y_train.values,\n",
    "                                  batch_size = 16,\n",
    "                                  shuffle=True)\n",
    "\n",
    "val_dataloader = get_dataloader(# add corect argument,\n",
    "                                y_val.values,\n",
    "                                batch_size = y_val.shape[0],\n",
    "                                shuffle=False)\n",
    "\n",
    "test_dataloader = get_dataloader(# add corect argument,\n",
    "                                 y_test.values,\n",
    "                                 batch_size = y_test.shape[0],\n",
    "                                 shuffle=True)"
   ]
  },
  {
   "cell_type": "code",
   "execution_count": null,
   "metadata": {},
   "outputs": [
    {
     "name": "stdout",
     "output_type": "stream",
     "text": [
      "Epoch 0/15:(13.262 sec)  loss:1.592, accuracy-:0.872, val_loss:1.492, val_accuracy->0.970\n",
      "Epoch 1/15:(13.120 sec)  loss:1.485, accuracy-:0.977, val_loss:1.488, val_accuracy->0.975\n",
      "Epoch 2/15:(13.136 sec)  loss:1.480, accuracy-:0.982, val_loss:1.492, val_accuracy->0.971\n",
      "Epoch 3/15:(12.994 sec)  loss:1.477, accuracy-:0.985, val_loss:1.481, val_accuracy->0.980\n",
      "Epoch 4/15:(12.980 sec)  loss:1.475, accuracy-:0.987, val_loss:1.479, val_accuracy->0.982\n",
      "Epoch 5/15:(13.429 sec)  loss:1.474, accuracy-:0.987, val_loss:1.478, val_accuracy->0.983\n",
      "Epoch 6/15:(13.001 sec)  loss:1.472, accuracy-:0.989, val_loss:1.480, val_accuracy->0.981\n",
      "Epoch 7/15:(13.318 sec)  loss:1.471, accuracy-:0.990, val_loss:1.478, val_accuracy->0.983\n",
      "Epoch 8/15:(13.117 sec)  loss:1.470, accuracy-:0.991, val_loss:1.474, val_accuracy->0.988\n",
      "Epoch 9/15:(12.985 sec)  loss:1.470, accuracy-:0.991, val_loss:1.479, val_accuracy->0.982\n",
      "Epoch 10/15:(13.033 sec)  loss:1.470, accuracy-:0.991, val_loss:1.475, val_accuracy->0.986\n",
      "Epoch 11/15:(12.998 sec)  loss:1.470, accuracy-:0.991, val_loss:1.472, val_accuracy->0.989\n",
      "Epoch 12/15:(12.981 sec)  loss:1.470, accuracy-:0.992, val_loss:1.475, val_accuracy->0.987\n",
      "Epoch 13/15:(13.086 sec)  loss:1.469, accuracy-:0.992, val_loss:1.474, val_accuracy->0.987\n",
      "Epoch 14/15:(13.007 sec)  loss:1.469, accuracy-:0.993, val_loss:1.475, val_accuracy->0.986\n"
     ]
    }
   ],
   "source": [
    "lr = 0.001\n",
    "\n",
    "optimizer = torch.optim.Adam(cnn_model.parameters(), lr=lr)\n",
    "loss_fn = torch.nn.CrossEntropyLoss() # binary cross entropy\n",
    "\n",
    "out = train_loop(train_dataloader = train_dataloader,\n",
    "                 val_dataloader = val_dataloader,\n",
    "                 patient = 3, \n",
    "                 epochs = 15,\n",
    "                 model = cnn_model,\n",
    "                 optimizer= optimizer,\n",
    "                 loss_fn= loss_fn)\n",
    "\n",
    "model, val_history_es_5, train_history_es_5, best_loss, best_epoch, best_weights = out"
   ]
  },
  {
   "cell_type": "code",
   "execution_count": null,
   "metadata": {},
   "outputs": [],
   "source": [
    "test_data = next(iter(test_dataloader))\n",
    "loss, acc = evaluation_step(cnn_model, test_data, loss_fn)"
   ]
  },
  {
   "cell_type": "code",
   "execution_count": null,
   "metadata": {},
   "outputs": [],
   "source": [
    "loss, acc"
   ]
  }
 ],
 "metadata": {
  "kernelspec": {
   "display_name": "MachineLearning",
   "language": "python",
   "name": "python3"
  },
  "language_info": {
   "codemirror_mode": {
    "name": "ipython",
    "version": 3
   },
   "file_extension": ".py",
   "mimetype": "text/x-python",
   "name": "python",
   "nbconvert_exporter": "python",
   "pygments_lexer": "ipython3",
   "version": "3.11.4"
  }
 },
 "nbformat": 4,
 "nbformat_minor": 1
}
