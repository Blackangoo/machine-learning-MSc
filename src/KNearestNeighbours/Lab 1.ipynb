{
 "cells": [
  {
   "cell_type": "markdown",
   "metadata": {
    "collapsed": true
   },
   "source": [
    "# Lab 1 - Introduction and the K-Nearest Neighbors Algorithm\n",
    "\n",
    "In this lab section, we will provide a quick introduction to the NumPy library to develop your own implementation of the K-Nearest Neighbors Algorithm.\n",
    "\n",
    "Specifically, we will cover the following topics:\n",
    "\n",
    "1. Introduction to NumPy\n",
    "2. How to generate data using NumPy\n",
    "3. Data visualization using Matplotlib\n",
    "4. Implementation of the K-Nearest Neighbors Algorithm\n",
    "\n",
    "The theoretical background for the first lab session is covered in the 2nd Chapter of the **\"An Introduction to Statistical Learning\"** book.\n",
    "\n",
    "For additional information about the lab structure, please refer to the course's lab description [file](https://github.com/olethrosdc/machine-learning-MSc/blob/main/lab.md).\n"
   ]
  },
  {
   "cell_type": "markdown",
   "metadata": {},
   "source": [
    "# 1. The numpy library\n",
    "\n",
    "Python is a high-level, interpreted programming language known for its readability and versatility. It is widely used in various domains, including web development, data analysis, machine learning, and scientific computing. Python has a\n",
    "large standard library and a vast ecosystem of third-party libraries and frameworks, making it a powerful tool for a\n",
    "wide range of tasks.\n",
    "\n",
    "As already mentioned we will use:  \n",
    "    - `numpy`: a fundamental Python package for numerical operations, providing support for arrays and matrices, as well\n",
    "      as mathematical functions. You can explore\n",
    "      its [API documentation](https://numpy.org/doc/stable/reference/index.html)."
   ]
  },
  {
   "cell_type": "markdown",
   "metadata": {},
   "source": [
    "## Import python libraries"
   ]
  },
  {
   "cell_type": "code",
   "execution_count": 2,
   "metadata": {},
   "outputs": [],
   "source": [
    "import numpy as np\n",
    "import matplotlib.pyplot as plt"
   ]
  },
  {
   "cell_type": "markdown",
   "metadata": {},
   "source": [
    "We will now go thought some basic functionality of numpy.\n",
    "We advise the students to follow the numpy [User guide](https://numpy.org/doc/stable/user/index.html) for a more complete guide on numpy array"
   ]
  },
  {
   "cell_type": "code",
   "execution_count": 3,
   "metadata": {},
   "outputs": [],
   "source": [
    "# 1. let define a numpy array\n",
    "simple_array_1 = np.array([1,2,3,4,5,6])"
   ]
  },
  {
   "cell_type": "code",
   "execution_count": 4,
   "metadata": {},
   "outputs": [
    {
     "name": "stdout",
     "output_type": "stream",
     "text": [
      "we can get the shape of the vector\n",
      "vector: [1 2 3 4 5 6]\n",
      "Result:  (6,)\n"
     ]
    }
   ],
   "source": [
    "# we can get the shape of an array\n",
    "print(\"we can get the shape of the vector\")\n",
    "print(\"vector:\", simple_array_1)\n",
    "print(\"Result: \", simple_array_1.shape)"
   ]
  },
  {
   "cell_type": "markdown",
   "metadata": {},
   "source": [
    "## numpy prodice very easy api to make numerical operation"
   ]
  },
  {
   "cell_type": "markdown",
   "metadata": {},
   "source": [
    "### 1. scalar operation"
   ]
  },
  {
   "cell_type": "code",
   "execution_count": 5,
   "metadata": {},
   "outputs": [
    {
     "name": "stdout",
     "output_type": "stream",
     "text": [
      "Add 1 to the following numpy array: [1 2 3 4 5 6]\n",
      "Result:  [2 3 4 5 6 7]\n"
     ]
    }
   ],
   "source": [
    "# 1. add a scalar to the vector\n",
    "scalar_add_result = simple_array_1 + 1\n",
    "print(\"Add 1 to the following numpy array:\", simple_array_1)\n",
    "print(\"Result: \", scalar_add_result)"
   ]
  },
  {
   "cell_type": "code",
   "execution_count": 6,
   "metadata": {},
   "outputs": [
    {
     "name": "stdout",
     "output_type": "stream",
     "text": [
      "We can multiply the following array with 10: [1 2 3 4 5 6]\n",
      "Result:  [10 20 30 40 50 60]\n"
     ]
    }
   ],
   "source": [
    "# 2. multiply with scalar\n",
    "scalate_mut_result = simple_array_1 * 10\n",
    "print(\"We can multiply the following array with 10:\", simple_array_1)\n",
    "print(\"Result: \", scalate_mut_result)"
   ]
  },
  {
   "cell_type": "markdown",
   "metadata": {},
   "source": [
    "### 2. operation between different numpy arrays\n",
    "\n",
    "we can also make operation between different numpy vector"
   ]
  },
  {
   "cell_type": "code",
   "execution_count": 7,
   "metadata": {},
   "outputs": [],
   "source": [
    "# let define a second array\n",
    "simple_array_2 = np.array([6,5,4,3,2,1])"
   ]
  },
  {
   "cell_type": "markdown",
   "metadata": {},
   "source": [
    "let's make different operation between array"
   ]
  },
  {
   "cell_type": "code",
   "execution_count": 8,
   "metadata": {},
   "outputs": [
    {
     "name": "stdout",
     "output_type": "stream",
     "text": [
      "Subtract two vector:\n",
      "vector 1: [1 2 3 4 5 6]\n",
      "vector 2: [6 5 4 3 2 1]\n",
      "Result: [-5 -3 -1  1  3  5]\n"
     ]
    }
   ],
   "source": [
    "# subtract two vector\n",
    "sub_result = simple_array_1 - simple_array_2\n",
    "print(\"Subtract two vector:\")\n",
    "print(\"vector 1:\", simple_array_1)\n",
    "print(\"vector 2:\", simple_array_2)\n",
    "print(\"Result:\", sub_result)"
   ]
  },
  {
   "cell_type": "code",
   "execution_count": 9,
   "metadata": {},
   "outputs": [
    {
     "name": "stdout",
     "output_type": "stream",
     "text": [
      "Multiply two vector\n",
      "vector 1: [1 2 3 4 5 6]\n",
      "vector 2: [6 5 4 3 2 1]\n",
      "Result: [-5 -3 -1  1  3  5]\n"
     ]
    }
   ],
   "source": [
    "# multiply two vector\n",
    "mult_result = simple_array_1 * simple_array_2\n",
    "print(\"Multiply two vector\")\n",
    "print(\"vector 1:\", simple_array_1)\n",
    "print(\"vector 2:\", simple_array_2)\n",
    "print(\"Result:\", sub_result)"
   ]
  },
  {
   "cell_type": "markdown",
   "metadata": {},
   "source": [
    "we can also combine two vector "
   ]
  },
  {
   "cell_type": "code",
   "execution_count": 10,
   "metadata": {},
   "outputs": [
    {
     "name": "stdout",
     "output_type": "stream",
     "text": [
      "concatenate\n",
      "vector 1: [1 2 3 4 5 6]\n",
      "vector 2: [6 5 4 3 2 1]\n",
      "Result:\n",
      "[1 2 3 4 5 6 6 5 4 3 2 1]\n"
     ]
    }
   ],
   "source": [
    "concatenate_array = np.concatenate([simple_array_1, simple_array_2])\n",
    "print(\"concatenate\")\n",
    "print(\"vector 1:\", simple_array_1)\n",
    "print(\"vector 2:\", simple_array_2)\n",
    "print(\"Result:\")\n",
    "print(concatenate_array)"
   ]
  },
  {
   "cell_type": "markdown",
   "metadata": {},
   "source": [
    "or stack two arrays"
   ]
  },
  {
   "cell_type": "code",
   "execution_count": 11,
   "metadata": {},
   "outputs": [
    {
     "name": "stdout",
     "output_type": "stream",
     "text": [
      "stack array\n",
      "vector 1: [1 2 3 4 5 6]\n",
      "vector 2: [6 5 4 3 2 1]\n",
      "Result:\n"
     ]
    },
    {
     "data": {
      "text/plain": "array([[1, 2, 3, 4, 5, 6],\n       [6, 5, 4, 3, 2, 1]])"
     },
     "execution_count": 11,
     "metadata": {},
     "output_type": "execute_result"
    }
   ],
   "source": [
    "stack_array = np.stack([simple_array_1, simple_array_2],axis=0)\n",
    "print(\"stack array\")\n",
    "print(\"vector 1:\", simple_array_1)\n",
    "print(\"vector 2:\", simple_array_2)\n",
    "print(\"Result:\")\n",
    "stack_array"
   ]
  },
  {
   "cell_type": "markdown",
   "metadata": {},
   "source": [
    "### Indexing\n",
    "we can select specific item of the numpy array."
   ]
  },
  {
   "cell_type": "code",
   "execution_count": 38,
   "metadata": {},
   "outputs": [
    {
     "name": "stdout",
     "output_type": "stream",
     "text": [
      "select the second item of numpy\n",
      "vector 1: [1 2 3 4 5 6]\n",
      "Result: 3\n"
     ]
    }
   ],
   "source": [
    "print(\"select the second item of numpy\")\n",
    "print(\"vector 1:\", simple_array_1)\n",
    "print(\"Result:\", simple_array_1[2])"
   ]
  },
  {
   "cell_type": "code",
   "execution_count": 13,
   "metadata": {},
   "outputs": [
    {
     "name": "stdout",
     "output_type": "stream",
     "text": [
      "select a subset of the vector\n",
      "vector 1: [1 2 3 4 5 6]\n",
      "Result: [3 4 5]\n"
     ]
    }
   ],
   "source": [
    "# select a subset of the vector\n",
    "print(\"select a subset of the vector\")\n",
    "print(\"vector 1:\", simple_array_1)\n",
    "print(\"Result:\", simple_array_1[2:-1])"
   ]
  },
  {
   "cell_type": "markdown",
   "metadata": {},
   "source": [
    "we can reverse an array"
   ]
  },
  {
   "cell_type": "code",
   "execution_count": 14,
   "metadata": {},
   "outputs": [
    {
     "name": "stdout",
     "output_type": "stream",
     "text": [
      "array 1:  [1 2 3 4 5 6]\n",
      "Inverse array 1:  [6 5 4 3 2 1]\n"
     ]
    }
   ],
   "source": [
    "inverse_simple_array_1 = simple_array_1[::-1]\n",
    "print(\"array 1: \", simple_array_1)\n",
    "print(\"Inverse array 1: \", inverse_simple_array_1)"
   ]
  },
  {
   "cell_type": "markdown",
   "metadata": {},
   "source": [
    "### build in numpy method\n",
    "numpy provide a variety on different build in method that is very useful for data analyse and create complex operation"
   ]
  },
  {
   "cell_type": "code",
   "execution_count": 15,
   "metadata": {},
   "outputs": [
    {
     "name": "stdout",
     "output_type": "stream",
     "text": [
      "We can get the sum of an array\n",
      "Vector: [6 5 4 3 2 1]\n",
      "Result: 21\n"
     ]
    }
   ],
   "source": [
    "print(\"We can get the sum of an array\")\n",
    "print(\"Vector:\", simple_array_2)\n",
    "print(\"Result:\", np.sum(simple_array_2))"
   ]
  },
  {
   "cell_type": "code",
   "execution_count": 16,
   "metadata": {},
   "outputs": [
    {
     "name": "stdout",
     "output_type": "stream",
     "text": [
      "We can get the power an array\n",
      "Vector: [6 5 4 3 2 1]\n",
      "Result: [36 25 16  9  4  1]\n"
     ]
    }
   ],
   "source": [
    "print(\"We can get the power an array\")\n",
    "print(\"Vector:\", simple_array_2)\n",
    "print(\"Result:\", np.power(simple_array_2,2))"
   ]
  },
  {
   "cell_type": "code",
   "execution_count": 17,
   "metadata": {},
   "outputs": [
    {
     "name": "stdout",
     "output_type": "stream",
     "text": [
      "We can get the square root of an array\n",
      "Vector: [36 25 16  9  4  1]\n",
      "Result: [6. 5. 4. 3. 2. 1.]\n"
     ]
    }
   ],
   "source": [
    "print(\"We can get the square root of an array\")\n",
    "print(\"Vector:\", np.power(simple_array_2,2))\n",
    "print(\"Result:\", np.sqrt(np.power(simple_array_2,2)))"
   ]
  },
  {
   "cell_type": "code",
   "execution_count": 18,
   "metadata": {},
   "outputs": [
    {
     "name": "stdout",
     "output_type": "stream",
     "text": [
      "We can get the mean value of a vector \n",
      "Vector: [1 2 3 4 5 6]\n",
      "Result: 3.5\n"
     ]
    }
   ],
   "source": [
    "# calculate the mean of an array\n",
    "print(\"We can get the mean value of a vector \")\n",
    "print(\"Vector:\", simple_array_1)\n",
    "print(\"Result:\", simple_array_1.mean())"
   ]
  },
  {
   "cell_type": "code",
   "execution_count": 19,
   "metadata": {},
   "outputs": [
    {
     "name": "stdout",
     "output_type": "stream",
     "text": [
      "We can get the standard deviation of a vector \n",
      "Vector: [1 2 3 4 5 6]\n",
      "Result: 1.707825127659933\n"
     ]
    }
   ],
   "source": [
    "print(\"We can get the standard deviation of a vector \")\n",
    "print(\"Vector:\", simple_array_1)\n",
    "print(\"Result:\", simple_array_1.std())"
   ]
  },
  {
   "cell_type": "code",
   "execution_count": 20,
   "metadata": {},
   "outputs": [
    {
     "name": "stdout",
     "output_type": "stream",
     "text": [
      "We can sort an array \n",
      "Vector: [-6 -5 -4 -3 -2 -1]\n",
      "Result: [-6 -5 -4 -3 -2 -1]\n"
     ]
    }
   ],
   "source": [
    "print(\"We can sort an array \")\n",
    "print(\"Vector:\", -simple_array_2)\n",
    "print(\"Result:\", np.sort(-simple_array_2))"
   ]
  },
  {
   "cell_type": "code",
   "execution_count": 21,
   "metadata": {},
   "outputs": [
    {
     "name": "stdout",
     "output_type": "stream",
     "text": [
      "We can short the index the array\n",
      "Vector: [-6 -5 -4 -3 -2 -1]\n",
      "Result: [0 1 2 3 4 5]\n"
     ]
    }
   ],
   "source": [
    "print(\"We can short the index the array\")\n",
    "print(\"Vector:\", -simple_array_2)\n",
    "print(\"Result:\", np.argsort(-simple_array_2))"
   ]
  },
  {
   "cell_type": "markdown",
   "metadata": {},
   "source": [
    "# Task 1. Euclidian distance Implementation\n",
    "\n",
    "Create a function that calculate the euclidian distance between 2 numpy arrays by filling the bellow code.\n",
    "\n",
    "$$\n",
    " \\Large d(x,y) = \\sqrt{\\sum_{i=1}^{n}(x_i - y_i)^2}\n",
    "$$"
   ]
  },
  {
   "cell_type": "code",
   "execution_count": 22,
   "metadata": {},
   "outputs": [],
   "source": [
    "def euclidean_distance(vector_1, vector2):\n",
    "    \"\"\"\n",
    "    fill you code to calculate the euclidean distance according to the formula\n",
    "    \"\"\"\n",
    "    subtract = vector_1 - vector2\n",
    "    power_2 = np.power(subtract, 2)\n",
    "    sum_array = np.sum(power_2, axis=-1)\n",
    "    distance = np.sqrt(sum_array)\n",
    "    return distance"
   ]
  },
  {
   "cell_type": "markdown",
   "metadata": {},
   "source": [
    "test you function"
   ]
  },
  {
   "cell_type": "code",
   "execution_count": 23,
   "metadata": {},
   "outputs": [],
   "source": [
    "array_1 = np.array([0,0])\n",
    "array_2 = np.array([2,2])"
   ]
  },
  {
   "cell_type": "code",
   "execution_count": 24,
   "metadata": {},
   "outputs": [
    {
     "name": "stdout",
     "output_type": "stream",
     "text": [
      "2.8284271247461903\n"
     ]
    }
   ],
   "source": [
    "my_distance = euclidean_distance(array_1, array_2)\n",
    "print(my_distance)"
   ]
  },
  {
   "cell_type": "markdown",
   "metadata": {},
   "source": [
    "we can also calculate the distance between multiple points!"
   ]
  },
  {
   "cell_type": "code",
   "execution_count": 25,
   "metadata": {},
   "outputs": [
    {
     "name": "stdout",
     "output_type": "stream",
     "text": [
      "[0.         2.82842712]\n"
     ]
    }
   ],
   "source": [
    "my_distance = euclidean_distance(array_1, np.stack([array_1, array_2]))\n",
    "print(my_distance)"
   ]
  },
  {
   "cell_type": "markdown",
   "metadata": {},
   "source": [
    "# K-Nearest Neighbors Algorithm\n",
    "\n",
    "In the following we will implement the K-Nearest Neighbors Algorithm.\n",
    "First we have to create some data for the algorithm. We can do it using the numpy package"
   ]
  },
  {
   "cell_type": "code",
   "execution_count": 26,
   "metadata": {},
   "outputs": [],
   "source": [
    "n_dim = 2\n",
    "n_classes = 2\n",
    "class_prob = [0.5, 0.5]"
   ]
  },
  {
   "cell_type": "code",
   "execution_count": 27,
   "metadata": {},
   "outputs": [],
   "source": [
    "n_training_data = 100\n",
    "train_X = np.random.normal(loc = 0.0, scale= 1.0, size = (n_training_data, 2) )\n",
    "train_Y = np.random.choice(range(2), p = class_prob,  size = n_training_data)"
   ]
  },
  {
   "cell_type": "code",
   "execution_count": 28,
   "metadata": {},
   "outputs": [],
   "source": [
    "x1_test = 0.5\n",
    "x2_test = -1.0\n",
    "test_data = np.array([[x1_test,x2_test]])"
   ]
  },
  {
   "cell_type": "code",
   "execution_count": 29,
   "metadata": {},
   "outputs": [
    {
     "data": {
      "text/plain": "<Figure size 640x480 with 1 Axes>",
      "image/png": "[encoded data removed]"
     },
     "metadata": {},
     "output_type": "display_data"
    }
   ],
   "source": [
    "# mask test data with label 0\n",
    "data_class_0 = train_X[train_Y == 0]\n",
    "\n",
    "# mask test data with label 1\n",
    "data_class_1 = train_X[train_Y == 1]\n",
    "\n",
    "\n",
    "# plot data\n",
    "plt.figure()\n",
    "plt.scatter(x = data_class_0[:,0],\n",
    "            y = data_class_0[:,1],\n",
    "            color = \"green\",\n",
    "            label = \"train class 0\")\n",
    "plt.scatter(x = data_class_1[:,0],\n",
    "            y = data_class_1[:,1],\n",
    "            color = \"blue\",\n",
    "            label = \"train class 1\")\n",
    "plt.scatter(x = test_data[:,0],\n",
    "            y = test_data[:,1],\n",
    "            color = \"red\",\n",
    "            label = \"test data\")\n",
    "plt.title(\"Data Scatter plot\")\n",
    "plt.xlabel(\"x1\")\n",
    "plt.ylabel(\"x2\")\n",
    "plt.legend()\n",
    "plt.show()\n",
    "plt.close()"
   ]
  },
  {
   "cell_type": "markdown",
   "metadata": {},
   "source": [
    "# Task 2.  K-Nearest Neighbors Implementation\n",
    "\n",
    "Algorithm -  book page 36-37:\n",
    "1. Find the k-nearest points from the training set.\n",
    "2. Estimate the probability according to the number of neighbours in each class.\n",
    "3. Predict the class with me maximum probability.\n",
    "\n",
    "fill the Skeleton template bellow to implement you knn algorithm\n",
    "fill the Skeleton template bellow to implement you knn algorithm you knn algorithm"
   ]
  },
  {
   "cell_type": "code",
   "execution_count": 30,
   "metadata": {},
   "outputs": [],
   "source": [
    "## Skeleton code to be filled in\n",
    "class NearestNeighbourClassifier:\n",
    "    \n",
    "    def __init__(self, data_x, data_y, k, num_classes):\n",
    "        \"\"\"\n",
    "        Initialise the class with the:\n",
    "        1. train x\n",
    "        2. train y\n",
    "        3. the metric to calculate distance\n",
    "        4. the k parameter of the algorithm\n",
    "        5. the num of different classes\n",
    "        \"\"\"\n",
    "        self.data_x = data_x\n",
    "        self.data_y = data_y\n",
    "        self.k = k\n",
    "        self.num_classes = num_classes\n",
    "    \n",
    "    def find_k_nearest_neighbours(self, x):\n",
    "        \"\"\"\n",
    "        return the index of the k nearest neighbours\n",
    "        \n",
    "        hint:\n",
    "        step 1. calculate the distance based on the metric.\n",
    "        step 2. find the k index with the minimum distance.\n",
    "        \"\"\"\n",
    "        # fill your code\n",
    "        return index\n",
    "    \n",
    "    def get_probabilities(self, x):\n",
    "        \"\"\"\n",
    "        return a vector of probabilities for each class\n",
    "        \n",
    "        hint:\n",
    "        step 1. call self.find_k_nearest_neighbours to find the index of k nearest neighbours\n",
    "        step 2. find the labels of k nearest neighbours using the indexes from step 1\n",
    "        step 3. calculate the propabilities based on the labels from step 2.\n",
    "        \"\"\"\n",
    "        \"\"\n",
    "        # step 1.\n",
    "        # fill your code\n",
    "\n",
    "        # step 2.\n",
    "        # fill your code\n",
    "\n",
    "        # step 3.\n",
    "        # fill your code\n",
    "\n",
    "        return p_y_x\n",
    "    \n",
    "    def predict(self, x):\n",
    "        \"\"\"\n",
    "        predict the most likely label\n",
    "        \n",
    "        hint: \n",
    "        step 1. call self.get_probabilities method and select the class with maximum probability\n",
    "        \"\"\"\n",
    "        # step 1.\n",
    "        pred_y = # fill your code\n",
    "        return pred_y"
   ]
  },
  {
   "cell_type": "markdown",
   "metadata": {},
   "source": [
    "### initialize the class of the algorithm"
   ]
  },
  {
   "cell_type": "code",
   "execution_count": 31,
   "metadata": {},
   "outputs": [],
   "source": [
    "knn_algo = NearestNeighbourClassifier(data_x=train_X, data_y=train_Y, k=3, num_classes=2)"
   ]
  },
  {
   "cell_type": "markdown",
   "metadata": {},
   "source": [
    "### we can also call method of the class to debug our code"
   ]
  },
  {
   "cell_type": "code",
   "execution_count": 32,
   "metadata": {},
   "outputs": [],
   "source": [
    "k_nearest_neighbours_index = knn_algo.find_k_nearest_neighbours(x = test_data)"
   ]
  },
  {
   "cell_type": "code",
   "execution_count": 33,
   "metadata": {},
   "outputs": [
    {
     "name": "stdout",
     "output_type": "stream",
     "text": [
      "index of the k nearest neighbours: [37 49 63]\n"
     ]
    }
   ],
   "source": [
    "print(\"index of the k nearest neighbours:\", k_nearest_neighbours_index)"
   ]
  },
  {
   "cell_type": "markdown",
   "metadata": {},
   "source": [
    "### Test you algorithm by visualize the data"
   ]
  },
  {
   "cell_type": "code",
   "execution_count": 34,
   "metadata": {},
   "outputs": [
    {
     "data": {
      "text/plain": "<Figure size 640x480 with 1 Axes>",
      "image/png": "[encoded data removed]"
     },
     "metadata": {},
     "output_type": "display_data"
    }
   ],
   "source": [
    "plt.figure()\n",
    "plt.title(\"Data Scatter plot\")\n",
    "plt.scatter(x = data_class_0[:,0], y = data_class_0[:,1], color = \"green\", label = \"train class 0\")\n",
    "plt.scatter(x = data_class_1[:,0], y = data_class_1[:,1], color = \"blue\", label = \"train class 1\")\n",
    "plt.scatter(x = test_data[:,0], y = test_data[:,1], color = \"red\", label = \"test data\")\n",
    "plt.scatter(x = train_X[k_nearest_neighbours_index,0],\n",
    "            y = train_X[k_nearest_neighbours_index,1],\n",
    "            color=\"yellow\",\n",
    "            label=\"closest points\",\n",
    "            s = 2)\n",
    "plt.xlabel(\"x1\")\n",
    "plt.ylabel(\"x2\")\n",
    "plt.legend()\n",
    "plt.show()"
   ]
  },
  {
   "cell_type": "markdown",
   "metadata": {},
   "source": [
    "### get the predicted probabilities for each class"
   ]
  },
  {
   "cell_type": "code",
   "execution_count": 35,
   "metadata": {},
   "outputs": [],
   "source": [
    "probabilities = knn_algo.get_probabilities(x = test_data)"
   ]
  },
  {
   "cell_type": "code",
   "execution_count": 36,
   "metadata": {},
   "outputs": [
    {
     "name": "stdout",
     "output_type": "stream",
     "text": [
      "test data predicted probabilities: [0.33333333 0.66666667]\n"
     ]
    }
   ],
   "source": [
    "print(\"test data predicted probabilities:\", probabilities)"
   ]
  },
  {
   "cell_type": "markdown",
   "metadata": {},
   "source": [
    "### make predictions"
   ]
  },
  {
   "cell_type": "code",
   "execution_count": 37,
   "metadata": {},
   "outputs": [
    {
     "name": "stdout",
     "output_type": "stream",
     "text": [
      "Predicted label: 1\n"
     ]
    }
   ],
   "source": [
    "prediction = knn_algo.predict(x = test_data)\n",
    "print(\"Predicted label:\", prediction)"
   ]
  },
  {
   "cell_type": "code",
   "execution_count": 37,
   "metadata": {},
   "outputs": [],
   "source": []
  }
 ],
 "metadata": {
  "kernelspec": {
   "display_name": "Python 3 (ipykernel)",
   "language": "python",
   "name": "python3"
  },
  "language_info": {
   "codemirror_mode": {
    "name": "ipython",
    "version": 3
   },
   "file_extension": ".py",
   "mimetype": "text/x-python",
   "name": "python",
   "nbconvert_exporter": "python",
   "pygments_lexer": "ipython3",
   "version": "3.9.12"
  }
 },
 "nbformat": 4,
 "nbformat_minor": 1
}
