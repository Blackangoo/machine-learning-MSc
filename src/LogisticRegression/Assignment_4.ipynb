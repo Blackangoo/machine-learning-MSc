{
 "cells": [
  {
   "cell_type": "markdown",
   "metadata": {},
   "source": [
    "# Assignment 4\n",
    "\n",
    "For Assignment 4, you are required to complete Exercise 3.13 from the book \"An Introduction to Statistical Learning\" (ISLP).\n",
    "\n",
    "**Exercise 3.13** (ISLP).\n",
    "\n",
    "In this exercise, you will create some simulated data and fit simple linear regression models to it. Ensure you use the default random number generator with the seed set to 1 before starting part (a) to ensure consistent results.\n",
    "\n",
    "**(a)** Using the `numpy.random.normal()` method of your random number generator, create a vector, `x`, containing 100 observations drawn from an N(0, 1) distribution. This represents a feature, X.\n",
    "\n",
    "**(b)** Using the `numpy.random.normal()` method, create a vector, $\\epsilon$, containing 100 observations drawn from an N(0, 0.25) distribution—a normal distribution with a mean of zero and a variance of 0.25.\n",
    "\n",
    "**(c)** Using $x$ and $\\epsilon$, generate a vector `y` according to the model: $Y = -1 + 0.5X + \\epsilon$. What is the length of the vector `y`? What are the values of $β_0$ and $β_1$ in this linear model?\n",
    "\n",
    "**(d)** Create a scatterplot displaying the relationship between `x` and `y`. Comment on what you observe.\n",
    "\n",
    "**(e)** Fit a least squares linear model to predict `y` using `x`. Comment on the model obtained. How do $\\hat{β}_0$ and $\\hat{β}_1$ compare to $β_0$ and $β_1$?\n",
    "\n",
    "**(f)** Display the least squares line on the scatterplot obtained in (d). Draw the population regression line on the plot, in a different color. Use the `legend()` method of the axes to create an appropriate legend.\n",
    "\n",
    "**(g)** Now fit a polynomial regression model that predicts $y$ using $x$ and $x^2$. Is there evidence that the quadratic term improves the model fit? Explain your answer.\n",
    "\n",
    "**(h)** Repeat (a)–(f) after modifying the data generation process in such a way that there is less noise in the data. The model should remain the same. You can do this by decreasing the variance of the normal distribution used to generate the error term $\\epsilon$ in (b). Describe your results.\n",
    " You can use $\\epsilon$ with variance equal to 0.05 .\n",
    "\n",
    "**(i)** Repeat (a)–(f) after modifying the data generation process in such a way that there is more noise in the data. The model should remain the same. You can do this by increasing the variance of the normal distribution used to generate the error term $\\epsilon$ in (b). Describe your results.\n",
    " You can use $\\epsilon$ with variance equal to 0.5 .\n",
    "\n",
    "**(j)** What are the confidence intervals for $β_0$ and $β_1$ based on the original data set, the noisier data set, and the less noisy data set? Comment on your results.\n",
    "\n",
    "**Extra questions.**\n",
    "\n",
    "**(e1)** Now create a second variable for the problem $x_2$ that is randomly generated without changing your $y$ model. How many coefficients does your linear regression model have if we use both $x$ and $x_2$ ? What are the values you expect for the different coefficients?\n",
    "\n",
    "**(e2)** Fit the linear regression model. Do the values of the different coefficients agree with your answer in step **(e1)**?\n",
    "\n",
    "**(e3)** Now we will use the bootstrapping method in order to train our model several times. To do that, you have to sample B = 10 bootstrap datasets by sampling n=100 points of the original dataset with replacement. Every time we fit the model on the different bootstrap dataset, we take a different estimation of the parameters $\\beta_i$, so you will have B different values for each coefficient. Plot the histogram of each parameter. Find the $2.5\\%$ and $97.5\\%$ percentiles for each coefficient. Compare the values with the confidence interval of **e2** step. Increase the number of bootstrap samples B and repeat steps of **e3**. What you observe?"
   ]
  },
  {
   "cell_type": "markdown",
   "source": [
    "## Solution"
   ],
   "metadata": {
    "collapsed": false
   }
  }
 ],
 "metadata": {
  "kernelspec": {
   "display_name": "Python 3 (ipykernel)",
   "language": "python",
   "name": "python3"
  },
  "language_info": {
   "codemirror_mode": {
    "name": "ipython",
    "version": 3
   },
   "file_extension": ".py",
   "mimetype": "text/x-python",
   "name": "python",
   "nbconvert_exporter": "python",
   "pygments_lexer": "ipython3",
   "version": "3.9.12"
  }
 },
 "nbformat": 4,
 "nbformat_minor": 1
}
