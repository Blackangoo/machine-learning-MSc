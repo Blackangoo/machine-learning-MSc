{
 "cells": [
  {
   "cell_type": "markdown",
   "metadata": {},
   "source": [
    "# Assignment 4\n",
    "\n",
    "For Assignment 4, you are required to complete Exercise 3.13 from the book \"An Introduction to Statistical Learning\" (ISLP).\n",
    "\n",
    "**Exercise 3.13** (ISLP).\n",
    "\n",
    "In this exercise, you will create some simulated data and fit simple linear regression models to it. Ensure you use the default random number generator with the seed set to 1 before starting part (a) to ensure consistent results.\n",
    "\n",
    "**(a)** Using the `numpy.random.normal()` method of your random number generator, create a vector, `x`, containing 100 observations drawn from an N(0, 1) distribution. This represents a feature, X.\n",
    "\n",
    "**(b)** Using the `numpy.random.normal()` method, create a vector, $\\epsilon$, containing 100 observations drawn from an N(0, 0.25) distribution—a normal distribution with a mean of zero and a variance of 0.25.\n",
    "\n",
    "**(c)** Using $x$ and $\\epsilon$, generate a vector `y` according to the model: $Y = -1 + 0.5X + \\epsilon$. What is the length of the vector `y`? What are the values of $β_0$ and $β_1$ in this linear model?\n",
    "\n",
    "**(d)** Create a scatterplot displaying the relationship between `x` and `y`. Comment on what you observe.\n",
    "\n",
    "**(e)** Fit a least squares linear model to predict `y` using `x`. Comment on the model obtained. How do $\\hat{β}_0$ and $\\hat{β}_1$ compare to $β_0$ and $β_1$?\n",
    "\n",
    "**(f)** Display the least squares line on the scatterplot obtained in (d). Draw the population regression line on the plot, in a different color. Use the `legend()` method of the axes to create an appropriate legend.\n",
    "\n",
    "**(g)** Now fit a polynomial regression model that predicts $y$ using $x$ and $x^2$. Is there evidence that the quadratic term improves the model fit? Explain your answer.\n",
    "\n",
    "**(h)** Repeat (a)–(f) after modifying the data generation process in such a way that there is less noise in the data. The model should remain the same. You can do this by decreasing the variance of the normal distribution used to generate the error term $\\epsilon$ in (b). Describe your results.\n",
    " You can use $\\epsilon$ with variance equal to 0.05 .\n",
    "\n",
    "**(i)** Repeat (a)–(f) after modifying the data generation process in such a way that there is more noise in the data. The model should remain the same. You can do this by increasing the variance of the normal distribution used to generate the error term $\\epsilon$ in (b). Describe your results.\n",
    " You can use $\\epsilon$ with variance equal to 0.5 .\n",
    "\n",
    "**(j)** What are the confidence intervals for $β_0$ and $β_1$ based on the original data set, the noisier data set, and the less noisy data set? Comment on your results.\n",
    "\n",
    "**Extra questions.**\n",
    "\n",
    "**(e1)** Now create a second variable for the problem $x_2$ that is randomly generated without changing your $y$ model. How many coefficients does your linear regression model have if we use both $x$ and $x_2$ ? What are the values you expect for the different coefficients?\n",
    "\n",
    "**(e2)** Fit the linear regression model and provide the confidence interval for the parameters. Do the values of the different coefficients agree with your answer in step **(e1)**?\n",
    "\n",
    "**(e3)** Now we will use the bootstrapping method in order to train our model several times. To do that, you have to sample B = 10 bootstrap datasets by sampling n=100 points of the original dataset with replacement. Every time we fit the model on the different bootstrap dataset, we take a different estimation of the parameters $\\beta_i$, so you will have B different values for each coefficient. Plot the histogram of each coefficient. Find the $2.5\\%$ and $97.5\\%$ percentiles for each coefficient. Compare the values with the confidence interval of **e2** step. Increase the number of bootstrap samples B and repeat steps of **e3**. What you observe?  \n",
    " Note that this approach is different from the bootstrap method for model selection."
   ]
  },
  {
   "cell_type": "markdown",
   "metadata": {},
   "source": [
    "## Solution"
   ]
  },
  {
   "cell_type": "code",
   "execution_count": 1,
   "metadata": {},
   "outputs": [],
   "source": [
    "import numpy as np\n",
    "import matplotlib.pyplot as plt"
   ]
  },
  {
   "cell_type": "markdown",
   "metadata": {},
   "source": [
    "(a) "
   ]
  },
  {
   "cell_type": "code",
   "execution_count": 70,
   "metadata": {},
   "outputs": [],
   "source": [
    "np.random.seed(1)\n",
    "n_examples = 100"
   ]
  },
  {
   "cell_type": "code",
   "execution_count": 71,
   "metadata": {},
   "outputs": [],
   "source": [
    "x = np.random.normal(loc = 0,\n",
    "                     scale = 1.0,\n",
    "                     size = (n_examples,1))"
   ]
  },
  {
   "cell_type": "code",
   "execution_count": 73,
   "metadata": {
    "scrolled": true
   },
   "outputs": [
    {
     "data": {
      "image/png": "[encoded data removed]",
      "text/plain": [
       "<Figure size 640x480 with 1 Axes>"
      ]
     },
     "metadata": {},
     "output_type": "display_data"
    }
   ],
   "source": [
    "plt.figure()\n",
    "plt.hist(x[:,0],bins=10)\n",
    "plt.show()"
   ]
  },
  {
   "cell_type": "markdown",
   "metadata": {},
   "source": [
    "(b)"
   ]
  },
  {
   "cell_type": "code",
   "execution_count": 5,
   "metadata": {},
   "outputs": [],
   "source": [
    "eps = np.random.normal(loc = 0,\n",
    "                     scale = 0.25,\n",
    "                     size = (n_examples,1))"
   ]
  },
  {
   "cell_type": "code",
   "execution_count": 74,
   "metadata": {},
   "outputs": [
    {
     "data": {
      "image/png": "[encoded data removed]",
      "text/plain": [
       "<Figure size 640x480 with 1 Axes>"
      ]
     },
     "metadata": {},
     "output_type": "display_data"
    }
   ],
   "source": [
    "plt.figure()\n",
    "plt.hist(eps[:,0],bins=10)\n",
    "plt.show()"
   ]
  },
  {
   "cell_type": "markdown",
   "metadata": {},
   "source": [
    "(c)"
   ]
  },
  {
   "cell_type": "code",
   "execution_count": 7,
   "metadata": {},
   "outputs": [],
   "source": [
    "b_0 = -1\n",
    "b_1 = 0.5\n",
    "y = b_1 * x + b_0 + eps"
   ]
  },
  {
   "cell_type": "code",
   "execution_count": 8,
   "metadata": {},
   "outputs": [
    {
     "data": {
      "text/plain": [
       "array([[-0.29960946],\n",
       "       [-0.99975128],\n",
       "       [-1.16321297],\n",
       "       [-1.38808968],\n",
       "       [-0.84102415],\n",
       "       [-2.10842374],\n",
       "       [ 0.05754499],\n",
       "       [-1.6190286 ],\n",
       "       [-0.90703508],\n",
       "       [-1.11653155],\n",
       "       [-0.61222536],\n",
       "       [-1.95128051],\n",
       "       [-0.94966844],\n",
       "       [-1.40690616],\n",
       "       [-0.34547878],\n",
       "       [-1.87801649],\n",
       "       [-1.09588798],\n",
       "       [-1.8428723 ],\n",
       "       [-0.6985387 ],\n",
       "       [-0.60636726],\n",
       "       [-1.55646383],\n",
       "       [-0.62142855],\n",
       "       [-0.23076566],\n",
       "       [-0.25697739],\n",
       "       [-1.01406749],\n",
       "       [-1.03282292],\n",
       "       [-0.65453242],\n",
       "       [-1.38338179],\n",
       "       [-1.43376105],\n",
       "       [-0.51898594],\n",
       "       [-1.39106045],\n",
       "       [-1.34935692],\n",
       "       [-1.65110088],\n",
       "       [-1.28496845],\n",
       "       [-1.13742135],\n",
       "       [-1.16221498],\n",
       "       [-1.42851109],\n",
       "       [-1.1688775 ],\n",
       "       [ 0.03036635],\n",
       "       [-0.6173361 ],\n",
       "       [-1.14256022],\n",
       "       [-1.46925095],\n",
       "       [-1.15635761],\n",
       "       [ 0.03383021],\n",
       "       [-0.84222979],\n",
       "       [-1.28407252],\n",
       "       [-0.88508698],\n",
       "       [ 0.20472263],\n",
       "       [-0.88179688],\n",
       "       [-0.52076059],\n",
       "       [-0.92744403],\n",
       "       [-1.78483436],\n",
       "       [-1.31155295],\n",
       "       [-0.62792645],\n",
       "       [-0.99410601],\n",
       "       [-0.73172721],\n",
       "       [-0.61461948],\n",
       "       [-0.56421251],\n",
       "       [-0.85285399],\n",
       "       [-0.8379341 ],\n",
       "       [-1.50647258],\n",
       "       [-0.62282263],\n",
       "       [-0.6813353 ],\n",
       "       [-1.22320671],\n",
       "       [-0.6319381 ],\n",
       "       [-1.08146165],\n",
       "       [-0.18760151],\n",
       "       [-0.18670812],\n",
       "       [ 0.64046264],\n",
       "       [-2.1723384 ],\n",
       "       [-1.88378607],\n",
       "       [-1.02686121],\n",
       "       [-0.28790004],\n",
       "       [-0.62407423],\n",
       "       [-0.83126528],\n",
       "       [-2.06767917],\n",
       "       [-0.82023773],\n",
       "       [-0.65783964],\n",
       "       [-0.71493517],\n",
       "       [-0.69894481],\n",
       "       [-1.42930376],\n",
       "       [-1.0219921 ],\n",
       "       [-0.7809231 ],\n",
       "       [-0.47166771],\n",
       "       [-0.9284619 ],\n",
       "       [-1.09483619],\n",
       "       [-1.19464087],\n",
       "       [-0.75103383],\n",
       "       [-0.8689231 ],\n",
       "       [-0.45353622],\n",
       "       [-0.11045642],\n",
       "       [-0.81504861],\n",
       "       [-0.7114778 ],\n",
       "       [-1.04160103],\n",
       "       [-0.62349037],\n",
       "       [-1.36818955],\n",
       "       [-1.02134702],\n",
       "       [-0.87313102],\n",
       "       [-1.1072625 ],\n",
       "       [-0.38987346]])"
      ]
     },
     "execution_count": 8,
     "metadata": {},
     "output_type": "execute_result"
    }
   ],
   "source": [
    "y"
   ]
  },
  {
   "cell_type": "markdown",
   "metadata": {},
   "source": [
    "(d)"
   ]
  },
  {
   "cell_type": "code",
   "execution_count": 9,
   "metadata": {},
   "outputs": [
    {
     "data": {
      "image/png": "[encoded data removed]",
      "text/plain": [
       "<Figure size 640x480 with 1 Axes>"
      ]
     },
     "metadata": {},
     "output_type": "display_data"
    }
   ],
   "source": [
    "plt.figure()\n",
    "plt.scatter(x,y)\n",
    "plt.xlabel(\"x\")\n",
    "plt.ylabel(\"y = b_1 x + b_0 + eps\")\n",
    "plt.show()"
   ]
  },
  {
   "cell_type": "markdown",
   "metadata": {},
   "source": [
    "(e)"
   ]
  },
  {
   "cell_type": "code",
   "execution_count": 51,
   "metadata": {},
   "outputs": [],
   "source": [
    "from sklearn.linear_model import LinearRegression"
   ]
  },
  {
   "cell_type": "code",
   "execution_count": 52,
   "metadata": {},
   "outputs": [
    {
     "data": {
      "text/html": [
       "<style>#sk-container-id-4 {color: black;background-color: white;}#sk-container-id-4 pre{padding: 0;}#sk-container-id-4 div.sk-toggleable {background-color: white;}#sk-container-id-4 label.sk-toggleable__label {cursor: pointer;display: block;width: 100%;margin-bottom: 0;padding: 0.3em;box-sizing: border-box;text-align: center;}#sk-container-id-4 label.sk-toggleable__label-arrow:before {content: \"▸\";float: left;margin-right: 0.25em;color: #696969;}#sk-container-id-4 label.sk-toggleable__label-arrow:hover:before {color: black;}#sk-container-id-4 div.sk-estimator:hover label.sk-toggleable__label-arrow:before {color: black;}#sk-container-id-4 div.sk-toggleable__content {max-height: 0;max-width: 0;overflow: hidden;text-align: left;background-color: #f0f8ff;}#sk-container-id-4 div.sk-toggleable__content pre {margin: 0.2em;color: black;border-radius: 0.25em;background-color: #f0f8ff;}#sk-container-id-4 input.sk-toggleable__control:checked~div.sk-toggleable__content {max-height: 200px;max-width: 100%;overflow: auto;}#sk-container-id-4 input.sk-toggleable__control:checked~label.sk-toggleable__label-arrow:before {content: \"▾\";}#sk-container-id-4 div.sk-estimator input.sk-toggleable__control:checked~label.sk-toggleable__label {background-color: #d4ebff;}#sk-container-id-4 div.sk-label input.sk-toggleable__control:checked~label.sk-toggleable__label {background-color: #d4ebff;}#sk-container-id-4 input.sk-hidden--visually {border: 0;clip: rect(1px 1px 1px 1px);clip: rect(1px, 1px, 1px, 1px);height: 1px;margin: -1px;overflow: hidden;padding: 0;position: absolute;width: 1px;}#sk-container-id-4 div.sk-estimator {font-family: monospace;background-color: #f0f8ff;border: 1px dotted black;border-radius: 0.25em;box-sizing: border-box;margin-bottom: 0.5em;}#sk-container-id-4 div.sk-estimator:hover {background-color: #d4ebff;}#sk-container-id-4 div.sk-parallel-item::after {content: \"\";width: 100%;border-bottom: 1px solid gray;flex-grow: 1;}#sk-container-id-4 div.sk-label:hover label.sk-toggleable__label {background-color: #d4ebff;}#sk-container-id-4 div.sk-serial::before {content: \"\";position: absolute;border-left: 1px solid gray;box-sizing: border-box;top: 0;bottom: 0;left: 50%;z-index: 0;}#sk-container-id-4 div.sk-serial {display: flex;flex-direction: column;align-items: center;background-color: white;padding-right: 0.2em;padding-left: 0.2em;position: relative;}#sk-container-id-4 div.sk-item {position: relative;z-index: 1;}#sk-container-id-4 div.sk-parallel {display: flex;align-items: stretch;justify-content: center;background-color: white;position: relative;}#sk-container-id-4 div.sk-item::before, #sk-container-id-4 div.sk-parallel-item::before {content: \"\";position: absolute;border-left: 1px solid gray;box-sizing: border-box;top: 0;bottom: 0;left: 50%;z-index: -1;}#sk-container-id-4 div.sk-parallel-item {display: flex;flex-direction: column;z-index: 1;position: relative;background-color: white;}#sk-container-id-4 div.sk-parallel-item:first-child::after {align-self: flex-end;width: 50%;}#sk-container-id-4 div.sk-parallel-item:last-child::after {align-self: flex-start;width: 50%;}#sk-container-id-4 div.sk-parallel-item:only-child::after {width: 0;}#sk-container-id-4 div.sk-dashed-wrapped {border: 1px dashed gray;margin: 0 0.4em 0.5em 0.4em;box-sizing: border-box;padding-bottom: 0.4em;background-color: white;}#sk-container-id-4 div.sk-label label {font-family: monospace;font-weight: bold;display: inline-block;line-height: 1.2em;}#sk-container-id-4 div.sk-label-container {text-align: center;}#sk-container-id-4 div.sk-container {/* jupyter's `normalize.less` sets `[hidden] { display: none; }` but bootstrap.min.css set `[hidden] { display: none !important; }` so we also need the `!important` here to be able to override the default hidden behavior on the sphinx rendered scikit-learn.org. See: https://github.com/scikit-learn/scikit-learn/issues/21755 */display: inline-block !important;position: relative;}#sk-container-id-4 div.sk-text-repr-fallback {display: none;}</style><div id=\"sk-container-id-4\" class=\"sk-top-container\"><div class=\"sk-text-repr-fallback\"><pre>LinearRegression()</pre><b>In a Jupyter environment, please rerun this cell to show the HTML representation or trust the notebook. <br />On GitHub, the HTML representation is unable to render, please try loading this page with nbviewer.org.</b></div><div class=\"sk-container\" hidden><div class=\"sk-item\"><div class=\"sk-estimator sk-toggleable\"><input class=\"sk-toggleable__control sk-hidden--visually\" id=\"sk-estimator-id-4\" type=\"checkbox\" checked><label for=\"sk-estimator-id-4\" class=\"sk-toggleable__label sk-toggleable__label-arrow\">LinearRegression</label><div class=\"sk-toggleable__content\"><pre>LinearRegression()</pre></div></div></div></div></div>"
      ],
      "text/plain": [
       "LinearRegression()"
      ]
     },
     "execution_count": 52,
     "metadata": {},
     "output_type": "execute_result"
    }
   ],
   "source": [
    "reg = LinearRegression(fit_intercept=True)\n",
    "reg.fit(x, y)"
   ]
  },
  {
   "cell_type": "code",
   "execution_count": 53,
   "metadata": {},
   "outputs": [
    {
     "data": {
      "text/plain": [
       "(100, 1)"
      ]
     },
     "execution_count": 53,
     "metadata": {},
     "output_type": "execute_result"
    }
   ],
   "source": [
    "x.shape"
   ]
  },
  {
   "cell_type": "code",
   "execution_count": 54,
   "metadata": {},
   "outputs": [
    {
     "data": {
      "text/plain": [
       "array([[0.52385678]])"
      ]
     },
     "execution_count": 54,
     "metadata": {},
     "output_type": "execute_result"
    }
   ],
   "source": [
    "b_1_hat = reg.coef_\n",
    "b_1_hat"
   ]
  },
  {
   "cell_type": "code",
   "execution_count": 55,
   "metadata": {},
   "outputs": [
    {
     "data": {
      "text/plain": [
       "0.5"
      ]
     },
     "execution_count": 55,
     "metadata": {},
     "output_type": "execute_result"
    }
   ],
   "source": [
    "b_1"
   ]
  },
  {
   "cell_type": "code",
   "execution_count": 56,
   "metadata": {},
   "outputs": [
    {
     "data": {
      "text/plain": [
       "array([-0.96324662])"
      ]
     },
     "execution_count": 56,
     "metadata": {},
     "output_type": "execute_result"
    }
   ],
   "source": [
    "b_0_hat = reg.intercept_\n",
    "b_0_hat"
   ]
  },
  {
   "cell_type": "code",
   "execution_count": 57,
   "metadata": {},
   "outputs": [
    {
     "data": {
      "text/plain": [
       "-1"
      ]
     },
     "execution_count": 57,
     "metadata": {},
     "output_type": "execute_result"
    }
   ],
   "source": [
    "b_0"
   ]
  },
  {
   "cell_type": "code",
   "execution_count": 58,
   "metadata": {},
   "outputs": [],
   "source": [
    "x_sim = np.linspace(-2,2)"
   ]
  },
  {
   "cell_type": "code",
   "execution_count": 59,
   "metadata": {},
   "outputs": [],
   "source": [
    "true_line = b_1 * x_sim + b_0\n",
    "estimated_line =  b_1_hat * x_sim + b_0_hat"
   ]
  },
  {
   "cell_type": "code",
   "execution_count": 60,
   "metadata": {},
   "outputs": [
    {
     "data": {
      "text/plain": [
       "(50,)"
      ]
     },
     "execution_count": 60,
     "metadata": {},
     "output_type": "execute_result"
    }
   ],
   "source": [
    "x_sim.shape"
   ]
  },
  {
   "cell_type": "code",
   "execution_count": 61,
   "metadata": {},
   "outputs": [
    {
     "data": {
      "image/png": "[encoded data removed]",
      "text/plain": [
       "<Figure size 640x480 with 1 Axes>"
      ]
     },
     "metadata": {},
     "output_type": "display_data"
    }
   ],
   "source": [
    "plt.figure()\n",
    "plt.scatter(x,y)\n",
    "plt.plot(x_sim, true_line.reshape(-1), color =\"green\", label = \"true model\")\n",
    "plt.plot(x_sim, estimated_line.reshape(-1) ,  color =\"red\", label = \"estimated model\")\n",
    "plt.xlabel(\"x\")\n",
    "plt.ylabel(\"y = b_1 x + b_0 + eps\")\n",
    "plt.legend()\n",
    "plt.show()"
   ]
  },
  {
   "cell_type": "code",
   "execution_count": null,
   "metadata": {},
   "outputs": [],
   "source": [
    "import statsmodels.api as sm"
   ]
  },
  {
   "cell_type": "code",
   "execution_count": 64,
   "metadata": {},
   "outputs": [],
   "source": [
    "ones = np.ones((100,1))"
   ]
  },
  {
   "cell_type": "code",
   "execution_count": 65,
   "metadata": {},
   "outputs": [],
   "source": [
    "x_new  = np.concatenate([ones, x],axis=-1)"
   ]
  },
  {
   "cell_type": "code",
   "execution_count": 66,
   "metadata": {},
   "outputs": [
    {
     "data": {
      "text/plain": [
       "array([-0.96324662,  0.52385678])"
      ]
     },
     "execution_count": 66,
     "metadata": {},
     "output_type": "execute_result"
    }
   ],
   "source": [
    "model = sm.OLS(y,x_new)\n",
    "results = model.fit()\n",
    "results.params"
   ]
  },
  {
   "cell_type": "code",
   "execution_count": 67,
   "metadata": {},
   "outputs": [
    {
     "data": {
      "text/plain": [
       "array([-0.96324662])"
      ]
     },
     "execution_count": 67,
     "metadata": {},
     "output_type": "execute_result"
    }
   ],
   "source": [
    "b_0_hat"
   ]
  },
  {
   "cell_type": "code",
   "execution_count": 68,
   "metadata": {},
   "outputs": [
    {
     "data": {
      "text/plain": [
       "array([[0.52385678]])"
      ]
     },
     "execution_count": 68,
     "metadata": {},
     "output_type": "execute_result"
    }
   ],
   "source": [
    "b_1_hat"
   ]
  },
  {
   "cell_type": "code",
   "execution_count": 69,
   "metadata": {},
   "outputs": [
    {
     "data": {
      "text/html": [
       "<table class=\"simpletable\">\n",
       "<caption>OLS Regression Results</caption>\n",
       "<tr>\n",
       "  <th>Dep. Variable:</th>            <td>y</td>        <th>  R-squared:         </th> <td>   0.800</td>\n",
       "</tr>\n",
       "<tr>\n",
       "  <th>Model:</th>                   <td>OLS</td>       <th>  Adj. R-squared:    </th> <td>   0.798</td>\n",
       "</tr>\n",
       "<tr>\n",
       "  <th>Method:</th>             <td>Least Squares</td>  <th>  F-statistic:       </th> <td>   391.4</td>\n",
       "</tr>\n",
       "<tr>\n",
       "  <th>Date:</th>             <td>Tue, 24 Oct 2023</td> <th>  Prob (F-statistic):</th> <td>5.39e-36</td>\n",
       "</tr>\n",
       "<tr>\n",
       "  <th>Time:</th>                 <td>11:45:49</td>     <th>  Log-Likelihood:    </th> <td>  4.1908</td>\n",
       "</tr>\n",
       "<tr>\n",
       "  <th>No. Observations:</th>      <td>   100</td>      <th>  AIC:               </th> <td>  -4.382</td>\n",
       "</tr>\n",
       "<tr>\n",
       "  <th>Df Residuals:</th>          <td>    98</td>      <th>  BIC:               </th> <td>  0.8288</td>\n",
       "</tr>\n",
       "<tr>\n",
       "  <th>Df Model:</th>              <td>     1</td>      <th>                     </th>     <td> </td>   \n",
       "</tr>\n",
       "<tr>\n",
       "  <th>Covariance Type:</th>      <td>nonrobust</td>    <th>                     </th>     <td> </td>   \n",
       "</tr>\n",
       "</table>\n",
       "<table class=\"simpletable\">\n",
       "<tr>\n",
       "    <td></td>       <th>coef</th>     <th>std err</th>      <th>t</th>      <th>P>|t|</th>  <th>[0.025</th>    <th>0.975]</th>  \n",
       "</tr>\n",
       "<tr>\n",
       "  <th>const</th> <td>   -0.9632</td> <td>    0.023</td> <td>  -40.999</td> <td> 0.000</td> <td>   -1.010</td> <td>   -0.917</td>\n",
       "</tr>\n",
       "<tr>\n",
       "  <th>x1</th>    <td>    0.5239</td> <td>    0.026</td> <td>   19.783</td> <td> 0.000</td> <td>    0.471</td> <td>    0.576</td>\n",
       "</tr>\n",
       "</table>\n",
       "<table class=\"simpletable\">\n",
       "<tr>\n",
       "  <th>Omnibus:</th>       <td> 0.898</td> <th>  Durbin-Watson:     </th> <td>   2.157</td>\n",
       "</tr>\n",
       "<tr>\n",
       "  <th>Prob(Omnibus):</th> <td> 0.638</td> <th>  Jarque-Bera (JB):  </th> <td>   0.561</td>\n",
       "</tr>\n",
       "<tr>\n",
       "  <th>Skew:</th>          <td>-0.172</td> <th>  Prob(JB):          </th> <td>   0.755</td>\n",
       "</tr>\n",
       "<tr>\n",
       "  <th>Kurtosis:</th>      <td> 3.127</td> <th>  Cond. No.          </th> <td>    1.15</td>\n",
       "</tr>\n",
       "</table><br/><br/>Notes:<br/>[1] Standard Errors assume that the covariance matrix of the errors is correctly specified."
      ],
      "text/latex": [
       "\\begin{center}\n",
       "\\begin{tabular}{lclc}\n",
       "\\toprule\n",
       "\\textbf{Dep. Variable:}    &        y         & \\textbf{  R-squared:         } &     0.800   \\\\\n",
       "\\textbf{Model:}            &       OLS        & \\textbf{  Adj. R-squared:    } &     0.798   \\\\\n",
       "\\textbf{Method:}           &  Least Squares   & \\textbf{  F-statistic:       } &     391.4   \\\\\n",
       "\\textbf{Date:}             & Tue, 24 Oct 2023 & \\textbf{  Prob (F-statistic):} &  5.39e-36   \\\\\n",
       "\\textbf{Time:}             &     11:45:49     & \\textbf{  Log-Likelihood:    } &    4.1908   \\\\\n",
       "\\textbf{No. Observations:} &         100      & \\textbf{  AIC:               } &    -4.382   \\\\\n",
       "\\textbf{Df Residuals:}     &          98      & \\textbf{  BIC:               } &    0.8288   \\\\\n",
       "\\textbf{Df Model:}         &           1      & \\textbf{                     } &             \\\\\n",
       "\\textbf{Covariance Type:}  &    nonrobust     & \\textbf{                     } &             \\\\\n",
       "\\bottomrule\n",
       "\\end{tabular}\n",
       "\\begin{tabular}{lcccccc}\n",
       "               & \\textbf{coef} & \\textbf{std err} & \\textbf{t} & \\textbf{P$> |$t$|$} & \\textbf{[0.025} & \\textbf{0.975]}  \\\\\n",
       "\\midrule\n",
       "\\textbf{const} &      -0.9632  &        0.023     &   -40.999  &         0.000        &       -1.010    &       -0.917     \\\\\n",
       "\\textbf{x1}    &       0.5239  &        0.026     &    19.783  &         0.000        &        0.471    &        0.576     \\\\\n",
       "\\bottomrule\n",
       "\\end{tabular}\n",
       "\\begin{tabular}{lclc}\n",
       "\\textbf{Omnibus:}       &  0.898 & \\textbf{  Durbin-Watson:     } &    2.157  \\\\\n",
       "\\textbf{Prob(Omnibus):} &  0.638 & \\textbf{  Jarque-Bera (JB):  } &    0.561  \\\\\n",
       "\\textbf{Skew:}          & -0.172 & \\textbf{  Prob(JB):          } &    0.755  \\\\\n",
       "\\textbf{Kurtosis:}      &  3.127 & \\textbf{  Cond. No.          } &     1.15  \\\\\n",
       "\\bottomrule\n",
       "\\end{tabular}\n",
       "%\\caption{OLS Regression Results}\n",
       "\\end{center}\n",
       "\n",
       "Notes: \\newline\n",
       " [1] Standard Errors assume that the covariance matrix of the errors is correctly specified."
      ],
      "text/plain": [
       "<class 'statsmodels.iolib.summary.Summary'>\n",
       "\"\"\"\n",
       "                            OLS Regression Results                            \n",
       "==============================================================================\n",
       "Dep. Variable:                      y   R-squared:                       0.800\n",
       "Model:                            OLS   Adj. R-squared:                  0.798\n",
       "Method:                 Least Squares   F-statistic:                     391.4\n",
       "Date:                Tue, 24 Oct 2023   Prob (F-statistic):           5.39e-36\n",
       "Time:                        11:45:49   Log-Likelihood:                 4.1908\n",
       "No. Observations:                 100   AIC:                            -4.382\n",
       "Df Residuals:                      98   BIC:                            0.8288\n",
       "Df Model:                           1                                         \n",
       "Covariance Type:            nonrobust                                         \n",
       "==============================================================================\n",
       "                 coef    std err          t      P>|t|      [0.025      0.975]\n",
       "------------------------------------------------------------------------------\n",
       "const         -0.9632      0.023    -40.999      0.000      -1.010      -0.917\n",
       "x1             0.5239      0.026     19.783      0.000       0.471       0.576\n",
       "==============================================================================\n",
       "Omnibus:                        0.898   Durbin-Watson:                   2.157\n",
       "Prob(Omnibus):                  0.638   Jarque-Bera (JB):                0.561\n",
       "Skew:                          -0.172   Prob(JB):                        0.755\n",
       "Kurtosis:                       3.127   Cond. No.                         1.15\n",
       "==============================================================================\n",
       "\n",
       "Notes:\n",
       "[1] Standard Errors assume that the covariance matrix of the errors is correctly specified.\n",
       "\"\"\""
      ]
     },
     "execution_count": 69,
     "metadata": {},
     "output_type": "execute_result"
    }
   ],
   "source": [
    "results.summary()"
   ]
  },
  {
   "cell_type": "code",
   "execution_count": null,
   "metadata": {},
   "outputs": [],
   "source": []
  }
 ],
 "metadata": {
  "kernelspec": {
   "display_name": "Python 3 (ipykernel)",
   "language": "python",
   "name": "python3"
  },
  "language_info": {
   "codemirror_mode": {
    "name": "ipython",
    "version": 3
   },
   "file_extension": ".py",
   "mimetype": "text/x-python",
   "name": "python",
   "nbconvert_exporter": "python",
   "pygments_lexer": "ipython3",
   "version": "3.9.12"
  }
 },
 "nbformat": 4,
 "nbformat_minor": 1
}
